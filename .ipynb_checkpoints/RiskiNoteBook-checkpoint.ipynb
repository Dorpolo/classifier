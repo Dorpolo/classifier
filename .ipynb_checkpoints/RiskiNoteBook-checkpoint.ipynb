{
 "cells": [
  {
   "cell_type": "markdown",
   "metadata": {},
   "source": [
    "### Pre-processing"
   ]
  },
  {
   "cell_type": "code",
   "execution_count": 356,
   "metadata": {},
   "outputs": [],
   "source": [
    "import pandas as pd\n",
    "import numpy as np\n",
    "import yaml\n",
    "from sklearn.preprocessing import MinMaxScaler\n",
    "from sklearn.model_selection import train_test_split\n",
    "from sklearn.metrics import classification_report, confusion_matrix\n",
    "from sklearn.ensemble import GradientBoostingClassifier\n",
    "from numpy import loadtxt\n",
    "from sklearn.model_selection import train_test_split\n",
    "from sklearn.metrics import accuracy_score\n",
    "\n",
    "\n",
    "with open(r'/Users/dorpo/Desktop/private/riskitest/data/metadata.YAML') as file:\n",
    "    documents = yaml.full_load(file)\n",
    "\n",
    "data = pd.read_csv(\n",
    "    \"/Users/dorpo/Desktop/private/riskitest/data/dataset.csv\",\n",
    "    low_memory=False\n",
    ")\n",
    "\n",
    "def extract_domain(x):\n",
    "    return x[(x.index('@') + 1):x.index('.')]\n",
    "\n",
    "def data_imputation(dataframe, features: dict):\n",
    "    for key, value in features.items():\n",
    "        if value['model']:\n",
    "            if value['type'] == 'numeric':\n",
    "                param = dataframe[key].median() \n",
    "            else:\n",
    "                param = dataframe[key].mode()\n",
    "            dataframe[key] = dataframe[key].fillna(param)\n",
    "    return dataframe\n",
    "\n",
    "# extract email domain\n",
    "data['email_anoni'] = [extract_domain(item) for item in list(data.email_anoni)]\n",
    "# extract Y column\n",
    "data['y'] = [0 if item == 'approved' else 1 for item in list(data.status)]\n",
    "\n",
    "model_vars = {key: {\n",
    "                    'type': value['type'],\n",
    "                    'model': value['model']\n",
    "                } for key, value in documents['Variables'].items()}\n",
    "\n",
    "feature_na_rate = data.isna().sum()/data.shape[0]\n",
    "feature_level_count = data.nunique()\n",
    "feature_type = [item['type'] for item in model_vars.values()] + ['target']\n",
    "feature_model= [item['model'] for item in model_vars.values()] + [True]\n",
    "\n",
    "feature_metadata = pd.DataFrame({\n",
    "    'na_rate': na_rate,\n",
    "    'level_count': level_count,\n",
    "    'type': feature_type,\n",
    "    'is_relevant': feature_model\n",
    "}).reset_index().rename(columns={'index': 'feature'})\n",
    "\n",
    "model_features = feature_metadata[\n",
    "                        (feature_metadata.type == 'numeric') & \n",
    "                        (feature_metadata.is_relevant)\n",
    "                    ].feature.to_list()\n",
    "\n",
    "full_data = data_imputation(data, model_vars)"
   ]
  },
  {
   "cell_type": "code",
   "execution_count": 365,
   "metadata": {},
   "outputs": [
    {
     "data": {
      "text/html": [
       "<div>\n",
       "<style scoped>\n",
       "    .dataframe tbody tr th:only-of-type {\n",
       "        vertical-align: middle;\n",
       "    }\n",
       "\n",
       "    .dataframe tbody tr th {\n",
       "        vertical-align: top;\n",
       "    }\n",
       "\n",
       "    .dataframe thead th {\n",
       "        text-align: right;\n",
       "    }\n",
       "</style>\n",
       "<table border=\"1\" class=\"dataframe\">\n",
       "  <thead>\n",
       "    <tr style=\"text-align: right;\">\n",
       "      <th></th>\n",
       "      <th>feature</th>\n",
       "      <th>na_rate</th>\n",
       "      <th>level_count</th>\n",
       "      <th>type</th>\n",
       "      <th>is_relevant</th>\n",
       "    </tr>\n",
       "  </thead>\n",
       "  <tbody>\n",
       "    <tr>\n",
       "      <th>5</th>\n",
       "      <td>shipping_method</td>\n",
       "      <td>False</td>\n",
       "      <td>2367</td>\n",
       "      <td>string</td>\n",
       "      <td>True</td>\n",
       "    </tr>\n",
       "    <tr>\n",
       "      <th>9</th>\n",
       "      <td>gateway</td>\n",
       "      <td>False</td>\n",
       "      <td>255</td>\n",
       "      <td>string</td>\n",
       "      <td>True</td>\n",
       "    </tr>\n",
       "    <tr>\n",
       "      <th>3</th>\n",
       "      <td>billing_country_code</td>\n",
       "      <td>False</td>\n",
       "      <td>213</td>\n",
       "      <td>string</td>\n",
       "      <td>True</td>\n",
       "    </tr>\n",
       "    <tr>\n",
       "      <th>4</th>\n",
       "      <td>shipping_country_code</td>\n",
       "      <td>False</td>\n",
       "      <td>195</td>\n",
       "      <td>string</td>\n",
       "      <td>True</td>\n",
       "    </tr>\n",
       "    <tr>\n",
       "      <th>2</th>\n",
       "      <td>email_anoni</td>\n",
       "      <td>False</td>\n",
       "      <td>44</td>\n",
       "      <td>string</td>\n",
       "      <td>True</td>\n",
       "    </tr>\n",
       "    <tr>\n",
       "      <th>8</th>\n",
       "      <td>currency_code</td>\n",
       "      <td>False</td>\n",
       "      <td>35</td>\n",
       "      <td>string</td>\n",
       "      <td>True</td>\n",
       "    </tr>\n",
       "    <tr>\n",
       "      <th>15</th>\n",
       "      <td>V6_avs_result</td>\n",
       "      <td>False</td>\n",
       "      <td>7</td>\n",
       "      <td>string</td>\n",
       "      <td>True</td>\n",
       "    </tr>\n",
       "    <tr>\n",
       "      <th>16</th>\n",
       "      <td>V7_bill_ship_name_match</td>\n",
       "      <td>False</td>\n",
       "      <td>4</td>\n",
       "      <td>string</td>\n",
       "      <td>True</td>\n",
       "    </tr>\n",
       "  </tbody>\n",
       "</table>\n",
       "</div>"
      ],
      "text/plain": [
       "                    feature  na_rate  level_count    type  is_relevant\n",
       "5           shipping_method    False         2367  string         True\n",
       "9                   gateway    False          255  string         True\n",
       "3      billing_country_code    False          213  string         True\n",
       "4     shipping_country_code    False          195  string         True\n",
       "2               email_anoni    False           44  string         True\n",
       "8             currency_code    False           35  string         True\n",
       "15            V6_avs_result    False            7  string         True\n",
       "16  V7_bill_ship_name_match    False            4  string         True"
      ]
     },
     "execution_count": 365,
     "metadata": {},
     "output_type": "execute_result"
    }
   ],
   "source": [
    "feature_metadata[(feature_metadata.type == 'string') & (feature_metadata.is_relevant)].sort_values(by='level_count', ascending = False)"
   ]
  },
  {
   "cell_type": "code",
   "execution_count": 407,
   "metadata": {},
   "outputs": [],
   "source": [
    "X = full_data[model_features]\n",
    "y = full_data['y']\n",
    "\n",
    "X_train, X_test, y_train, y_test = train_test_split(X, y, test_size=0.3)\n",
    "scaler = MinMaxScaler()\n",
    "X_train = scaler.fit_transform(X_train)\n",
    "X_test = scaler.transform(X_test)\n",
    "lr_list = [0.05, 0.075, 0.1, 0.25, 0.5, 0.75, 1]"
   ]
  },
  {
   "cell_type": "code",
   "execution_count": 408,
   "metadata": {},
   "outputs": [
    {
     "name": "stdout",
     "output_type": "stream",
     "text": [
      "Learning rate:  0.05\n",
      "Accuracy score (training): 0.886\n",
      "Accuracy score (validation): 0.885\n",
      "Learning rate:  0.075\n",
      "Accuracy score (training): 0.888\n",
      "Accuracy score (validation): 0.888\n",
      "Learning rate:  0.1\n",
      "Accuracy score (training): 0.889\n",
      "Accuracy score (validation): 0.888\n",
      "Learning rate:  0.25\n",
      "Accuracy score (training): 0.892\n",
      "Accuracy score (validation): 0.891\n",
      "Learning rate:  0.5\n",
      "Accuracy score (training): 0.893\n",
      "Accuracy score (validation): 0.892\n",
      "Learning rate:  0.75\n",
      "Accuracy score (training): 0.896\n",
      "Accuracy score (validation): 0.894\n",
      "Learning rate:  1\n",
      "Accuracy score (training): 0.891\n",
      "Accuracy score (validation): 0.890\n",
      "Confusion Matrix:\n",
      "[[48777   808]\n",
      " [ 5340  2075]]\n",
      "Classification Report\n",
      "              precision    recall  f1-score   support\n",
      "\n",
      "           0       0.90      0.98      0.94     49585\n",
      "           1       0.72      0.28      0.40      7415\n",
      "\n",
      "    accuracy                           0.89     57000\n",
      "   macro avg       0.81      0.63      0.67     57000\n",
      "weighted avg       0.88      0.89      0.87     57000\n",
      "\n"
     ]
    }
   ],
   "source": [
    "for learning_rate in lr_list:\n",
    "    gb_clf = GradientBoostingClassifier(\n",
    "                    learning_rate=learning_rate,\n",
    "                    max_depth=2,\n",
    "                    random_state=0,\n",
    "                    n_estimators=20\n",
    "                )\n",
    "    gb_clf.fit(X_train, y_train)\n",
    "\n",
    "    print(\"Learning rate: \", learning_rate)\n",
    "    print(\"Accuracy score (training): {0:.3f}\".format(gb_clf.score(X_train, y_train)))\n",
    "    print(\"Accuracy score (validation): {0:.3f}\".format(gb_clf.score(X_test, y_test)))\n",
    "    \n",
    "gb_clf2 = GradientBoostingClassifier(\n",
    "                    learning_rate=0.5,\n",
    "                     max_depth=2,\n",
    "                    random_state=0,\n",
    "                    n_estimators=20\n",
    "                )\n",
    "\n",
    "\n",
    "gb_clf2.fit(X_train, y_train)\n",
    "predictions = gb_clf2.predict(X_test)\n",
    "\n",
    "print(\"Confusion Matrix:\")\n",
    "print(confusion_matrix(y_test, predictions))\n",
    "\n",
    "print(\"Classification Report\")\n",
    "print(classification_report(y_test, predictions))"
   ]
  },
  {
   "cell_type": "code",
   "execution_count": 410,
   "metadata": {},
   "outputs": [
    {
     "data": {
      "text/plain": [
       "array([1, 0, 0, ..., 0, 0, 0])"
      ]
     },
     "execution_count": 410,
     "metadata": {},
     "output_type": "execute_result"
    }
   ],
   "source": [
    "predictions"
   ]
  },
  {
   "cell_type": "code",
   "execution_count": 416,
   "metadata": {},
   "outputs": [],
   "source": [
    "a = [[x, list(predictions).count(x)] for x in set(predictions)]\n",
    "b = [[x, list(predictions).count(x)] for x in set(y_train)]"
   ]
  },
  {
   "cell_type": "code",
   "execution_count": 417,
   "metadata": {},
   "outputs": [
    {
     "data": {
      "text/plain": [
       "[[0, 54117], [1, 2883]]"
      ]
     },
     "execution_count": 417,
     "metadata": {},
     "output_type": "execute_result"
    }
   ],
   "source": [
    "scores = gb_clf2.predict(X_test)"
   ]
  },
  {
   "cell_type": "markdown",
   "metadata": {},
   "source": [
    "## CatBoost\n",
    "#### Data Preperation"
   ]
  },
  {
   "cell_type": "code",
   "execution_count": 540,
   "metadata": {},
   "outputs": [
    {
     "name": "stdout",
     "output_type": "stream",
     "text": [
      "ok\n"
     ]
    }
   ],
   "source": [
    "import numpy as np\n",
    "import pandas as pd\n",
    "import yaml\n",
    "from sklearn.model_selection import train_test_split\n",
    "from catboost import CatBoostClassifier\n",
    "\n",
    "with open(r'/Users/dorpo/Desktop/private/riskitest/data/metadata.YAML') as file:\n",
    "    documents = yaml.full_load(file)\n",
    "\n",
    "data = pd.read_csv(\n",
    "    \"/Users/dorpo/Desktop/private/riskitest/data/dataset.csv\",\n",
    "    low_memory=False\n",
    ")\n",
    "\n",
    "def extract_domain(x):\n",
    "    return x[(x.index('@') + 1):x.index('.')]\n",
    "\n",
    "def data_imputation(dataframe, features: dict):\n",
    "    for key, value in features.items():\n",
    "        if value['model']:\n",
    "            if value['type'] == 'numeric':\n",
    "                param = dataframe[key].median() \n",
    "            else:\n",
    "                param = dataframe[key].mode()[0]\n",
    "            dataframe[key] = dataframe[key].fillna(param)\n",
    "    return dataframe\n",
    "\n",
    "data['email_anoni'] = [extract_domain(item) for item in list(data.email_anoni)]\n",
    "data['y'] = [0 if item == 'approved' else 1 for item in list(data.status)]\n",
    "\n",
    "model_vars = {key: {\n",
    "                    'type': value['type'],\n",
    "                    'model': value['model']\n",
    "                } for key, value in documents['Variables'].items()}\n",
    "\n",
    "feature_na_rate = data.isna().sum()/data.shape[0]\n",
    "feature_level_count = data.nunique()\n",
    "feature_type = [item['type'] for item in model_vars.values()] + ['target']\n",
    "feature_model = [item['model'] for item in model_vars.values()] + [True]\n",
    "\n",
    "feature_metadata = pd.DataFrame({\n",
    "    'na_rate': na_rate,\n",
    "    'level_count': level_count,\n",
    "    'type': feature_type,\n",
    "    'is_relevant': feature_model\n",
    "}).reset_index().rename(columns={'index': 'feature'})\n",
    "\n",
    "model_features = feature_metadata[\n",
    "                        (feature_metadata.is_relevant)\n",
    "                    ].feature.to_list()\n",
    "\n",
    "cat_features = feature_metadata[\n",
    "                    (feature_metadata.type == 'string') & \n",
    "                    (feature_metadata.is_relevant)\n",
    "                ].feature.to_list()\n",
    "\n",
    "full_data = data_imputation(data, model_vars)\n",
    "\n",
    "print('ok')"
   ]
  },
  {
   "cell_type": "markdown",
   "metadata": {},
   "source": [
    "### Model Training"
   ]
  },
  {
   "cell_type": "code",
   "execution_count": 541,
   "metadata": {},
   "outputs": [],
   "source": [
    "X = full_data[model_features]\n",
    "y = full_data['y']\n",
    "X_train, X_val, y_train, y_val = train_test_split(X, y, test_size=0.2, random_state=0)\n",
    "lr_list = [0.05, 0.075, 0.1, 0.25, 0.5, 0.75, 1]"
   ]
  },
  {
   "cell_type": "code",
   "execution_count": 546,
   "metadata": {},
   "outputs": [
    {
     "name": "stdout",
     "output_type": "stream",
     "text": [
      "CatBoost model is fitted: True\n",
      "CatBoost model parameters:\n",
      "{'iterations': 5, 'learning_rate': 0.1}\n"
     ]
    }
   ],
   "source": [
    "clf = CatBoostClassifier(\n",
    "    iterations=5, \n",
    "    learning_rate=0.1, \n",
    "    #loss_function='CrossEntropy'\n",
    ")\n",
    "\n",
    "clf.fit(X_train, y_train, \n",
    "        cat_features=cat_features, \n",
    "        eval_set=(X_val, y_val), \n",
    "        verbose=False\n",
    ")\n",
    "\n",
    "print('CatBoost model is fitted: ' + str(clf.is_fitted()))\n",
    "print('CatBoost model parameters:')\n",
    "print(clf.get_params())"
   ]
  },
  {
   "cell_type": "code",
   "execution_count": 547,
   "metadata": {},
   "outputs": [
    {
     "name": "stdout",
     "output_type": "stream",
     "text": [
      "Learning rate set to 0.5\n",
      "0:\tlearn: 0.3145540\ttest: 0.3145386\tbest: 0.3145386 (0)\ttotal: 20.7ms\tremaining: 186ms\n",
      "1:\tlearn: 0.1712287\ttest: 0.1712305\tbest: 0.1712305 (1)\ttotal: 37.9ms\tremaining: 152ms\n",
      "2:\tlearn: 0.0982263\ttest: 0.0982271\tbest: 0.0982271 (2)\ttotal: 48.8ms\tremaining: 114ms\n",
      "3:\tlearn: 0.0580293\ttest: 0.0580538\tbest: 0.0580538 (3)\ttotal: 68.3ms\tremaining: 103ms\n",
      "4:\tlearn: 0.0346185\ttest: 0.0346347\tbest: 0.0346347 (4)\ttotal: 79.7ms\tremaining: 79.7ms\n",
      "5:\tlearn: 0.0209682\ttest: 0.0209895\tbest: 0.0209895 (5)\ttotal: 94.1ms\tremaining: 62.7ms\n",
      "6:\tlearn: 0.0126847\ttest: 0.0126988\tbest: 0.0126988 (6)\ttotal: 106ms\tremaining: 45.2ms\n",
      "7:\tlearn: 0.0077466\ttest: 0.0077577\tbest: 0.0077577 (7)\ttotal: 120ms\tremaining: 29.9ms\n",
      "8:\tlearn: 0.0047722\ttest: 0.0047806\tbest: 0.0047806 (8)\ttotal: 134ms\tremaining: 14.9ms\n",
      "9:\tlearn: 0.0029450\ttest: 0.0029517\tbest: 0.0029517 (9)\ttotal: 150ms\tremaining: 0us\n",
      "\n",
      "bestTest = 0.002951710978\n",
      "bestIteration = 9\n",
      "\n"
     ]
    },
    {
     "data": {
      "text/plain": [
       "<catboost.core.CatBoostClassifier at 0x7fa1d81c30a0>"
      ]
     },
     "execution_count": 547,
     "metadata": {},
     "output_type": "execute_result"
    }
   ],
   "source": [
    "from catboost import CatBoostClassifier\n",
    "clf = CatBoostClassifier(\n",
    "    iterations=10,\n",
    "#     verbose=5,\n",
    ")\n",
    "\n",
    "clf.fit(\n",
    "    X_train, y_train,\n",
    "    cat_features=cat_features,\n",
    "    eval_set=(X_val, y_val),\n",
    ")"
   ]
  },
  {
   "cell_type": "code",
   "execution_count": 537,
   "metadata": {},
   "outputs": [
    {
     "name": "stdout",
     "output_type": "stream",
     "text": [
      "[[0.99717868 0.00282132]\n",
      " [0.9972003  0.0027997 ]\n",
      " [0.99722241 0.00277759]\n",
      " ...\n",
      " [0.9972208  0.0027792 ]\n",
      " [0.99722023 0.00277977]\n",
      " [0.99722208 0.00277792]]\n"
     ]
    },
    {
     "data": {
      "text/plain": [
       "0"
      ]
     },
     "execution_count": 537,
     "metadata": {},
     "output_type": "execute_result"
    }
   ],
   "source": [
    "print(clf.predict_proba(data=X_val))\n",
    "predictions_th_90 = [1 if item[1] > 0.1 else 0 for item in predictions_th]\n",
    "len([(i,j) for i,j in zip(predictions, predictions_th_90) if i != j])"
   ]
  },
  {
   "cell_type": "code",
   "execution_count": 558,
   "metadata": {},
   "outputs": [
    {
     "ename": "SyntaxError",
     "evalue": "invalid syntax (<ipython-input-558-442a482710c9>, line 1)",
     "output_type": "error",
     "traceback": [
      "\u001b[0;36m  File \u001b[0;32m\"<ipython-input-558-442a482710c9>\"\u001b[0;36m, line \u001b[0;32m1\u001b[0m\n\u001b[0;31m    [i,j,k for i,j,k in zip(clf.predict_proba(data=X_val), list(clf.predict(data=X_val)))]\u001b[0m\n\u001b[0m           ^\u001b[0m\n\u001b[0;31mSyntaxError\u001b[0m\u001b[0;31m:\u001b[0m invalid syntax\n"
     ]
    }
   ],
   "source": [
    "[i,j,k for i,j,k in zip(clf.predict_proba(data=X_val), list(clf.predict(data=X_val)))]"
   ]
  },
  {
   "cell_type": "code",
   "execution_count": 575,
   "metadata": {},
   "outputs": [
    {
     "name": "stdout",
     "output_type": "stream",
     "text": [
      "Min P(Yi = 1| Xi) = 0.9694\n"
     ]
    }
   ],
   "source": [
    "frauds = [(j, k) for j,k in zip(clf.predict_proba(data=X_val).tolist(), predictions) if k == 1]\n",
    "print(f\"Min P(Yi = 1| Xi) = {round(min([item[0][1] for item in frauds]), 4)}\")"
   ]
  },
  {
   "cell_type": "code",
   "execution_count": null,
   "metadata": {},
   "outputs": [],
   "source": []
  },
  {
   "cell_type": "code",
   "execution_count": 629,
   "metadata": {},
   "outputs": [
    {
     "name": "stdout",
     "output_type": "stream",
     "text": [
      "{'th': 0.9951, 'approval_rate': 87.634}\n",
      "{'th': 0.9952, 'approval_rate': 87.679}\n",
      "{'th': 0.9953, 'approval_rate': 87.774}\n",
      "{'th': 0.9954, 'approval_rate': 87.866}\n",
      "{'th': 0.9955, 'approval_rate': 87.961}\n",
      "{'th': 0.9956, 'approval_rate': 88.061}\n",
      "{'th': 0.9957, 'approval_rate': 88.155}\n",
      "{'th': 0.9958, 'approval_rate': 88.247}\n",
      "{'th': 0.9959, 'approval_rate': 88.316}\n",
      "{'th': 0.996, 'approval_rate': 88.408}\n",
      "{'th': 0.9961, 'approval_rate': 88.563}\n",
      "{'th': 0.9962, 'approval_rate': 88.697}\n",
      "{'th': 0.9963, 'approval_rate': 88.892}\n",
      "{'th': 0.9964, 'approval_rate': 89.187}\n",
      "{'th': 0.9965, 'approval_rate': 89.497}\n",
      "{'th': 0.9966, 'approval_rate': 89.908}\n",
      "{'th': 0.9967, 'approval_rate': 90.463}\n"
     ]
    }
   ],
   "source": [
    "th = 0.995\n",
    "real_data = list(data['y'])\n",
    "predictions = list(clf.predict(data=X_val))\n",
    "predictions_th = list(clf.predict_proba(data=X_val))\n",
    "\n",
    "def get_approval_rate(th):\n",
    "    calc_predictions = [1 if item[1] > th else 0 for item in predictions_th]\n",
    "    results = {\n",
    "        'model': {i: predictions.count(i) for i in set(predictions)},\n",
    "       f'{th}': {i: calc_predictions.count(i) for i in set(predictions_th_j)},\n",
    "        'real_data': {i: real_data.count(i) for i in set(real_data)}\n",
    "    }\n",
    "    output = {\n",
    "        key: value[0]*100/(value[0]+value[1]) for key, value in results.items()\n",
    "             if key == f'{th}'}\n",
    "    return output[f'{th}']\n",
    "\n",
    "th = 0.995\n",
    "approval_rate = get_approval_rate(th)\n",
    "while approval_rate < 90:\n",
    "    th += 0.0001\n",
    "    approval_rate = get_approval_rate(th)\n",
    "    print({'th': round(th, 4), 'approval_rate': round(approval_rate, 3)})\n",
    "\n",
    "#get_approval_rate(th)"
   ]
  },
  {
   "cell_type": "code",
   "execution_count": null,
   "metadata": {},
   "outputs": [],
   "source": []
  },
  {
   "cell_type": "code",
   "execution_count": 610,
   "metadata": {},
   "outputs": [
    {
     "data": {
      "text/plain": [
       "array([0.995, 0.996, 0.997, 0.998, 0.999, 1.   ])"
      ]
     },
     "execution_count": 610,
     "metadata": {},
     "output_type": "execute_result"
    }
   ],
   "source": []
  },
  {
   "cell_type": "code",
   "execution_count": 609,
   "metadata": {},
   "outputs": [
    {
     "name": "stdout",
     "output_type": "stream",
     "text": [
      "0.995\n",
      "0.996\n",
      "0.997\n",
      "0.998\n",
      "0.999\n",
      "1.0\n"
     ]
    }
   ],
   "source": [
    "import numpy\n",
    "for item in numpy.arange(0.995, 1, 0.001):\n",
    "    print(item)\n"
   ]
  },
  {
   "cell_type": "code",
   "execution_count": 579,
   "metadata": {},
   "outputs": [
    {
     "name": "stdout",
     "output_type": "stream",
     "text": [
      "0.13152631578947369 0.1292578947368421\n"
     ]
    }
   ],
   "source": [
    "model_rate = 4998/(4998+33002)\n",
    "real_rate  = 24559/(165441+24559)\n",
    "print(model_rate, real_rate)"
   ]
  },
  {
   "cell_type": "code",
   "execution_count": 444,
   "metadata": {},
   "outputs": [],
   "source": [
    "results = [1 if list(item)[1] > 0.1 else 0 for item in gb_clf2.predict_proba(X_test)]\n",
    "probs = [list(item)[1] for item in gb_clf2.predict_proba(X_test)]\n",
    "pdf = pd.DataFrame({'P(Yi=1|Xi)': probs, 'results': results})"
   ]
  },
  {
   "cell_type": "code",
   "execution_count": 445,
   "metadata": {},
   "outputs": [
    {
     "data": {
      "text/plain": [
       "results\n",
       "0    38327\n",
       "1    18673\n",
       "Name: results, dtype: int64"
      ]
     },
     "execution_count": 445,
     "metadata": {},
     "output_type": "execute_result"
    }
   ],
   "source": [
    "pdf.groupby('results')['results'].count()"
   ]
  },
  {
   "cell_type": "code",
   "execution_count": 447,
   "metadata": {},
   "outputs": [
    {
     "data": {
      "text/plain": [
       "y\n",
       "0    165441\n",
       "1     24559\n",
       "Name: y, dtype: int64"
      ]
     },
     "execution_count": 447,
     "metadata": {},
     "output_type": "execute_result"
    }
   ],
   "source": [
    "data.groupby('y')['y'].count()"
   ]
  },
  {
   "cell_type": "code",
   "execution_count": 420,
   "metadata": {},
   "outputs": [
    {
     "data": {
      "image/png": "[encoded data removed]",
      "text/plain": [
       "<Figure size 432x288 with 1 Axes>"
      ]
     },
     "metadata": {
      "needs_background": "light"
     },
     "output_type": "display_data"
    }
   ],
   "source": [
    "# Plot probs\n",
    "# pdf.probs.plot.hist(grid=True, bins=20, rwidth=0.9,\n",
    "#                    color='#607c8e')\n",
    "\n",
    "# plt.title('Commute Times for 1,000 Commuters', color = 'white')\n",
    "# plt.xlabel('P(Y=1|X=x)', color = 'white')\n",
    "# plt.ylabel('Count', color = 'white')\n",
    "# plt.grid(axis='y', alpha=0.75)\n",
    "\n",
    "# Plot predicted classes\n",
    "pdf.results.plot.hist(grid=True, bins=20, rwidth=0.9,\n",
    "                   color='#607c8e')\n",
    "\n",
    "plt.title('Commute Times for 1,000 Commuters', color = 'white')\n",
    "plt.xlabel('P(Y=1|X=x)', color = 'white')\n",
    "plt.ylabel('Count', color = 'white')\n",
    "plt.grid(axis='y', alpha=0.75)"
   ]
  },
  {
   "cell_type": "code",
   "execution_count": 405,
   "metadata": {},
   "outputs": [
    {
     "data": {
      "text/plain": [
       "y\n",
       "0    165441\n",
       "1     24559\n",
       "Name: y, dtype: int64"
      ]
     },
     "execution_count": 405,
     "metadata": {},
     "output_type": "execute_result"
    }
   ],
   "source": [
    "data.groupby('y')['y'].count()"
   ]
  },
  {
   "cell_type": "code",
   "execution_count": 399,
   "metadata": {},
   "outputs": [
    {
     "data": {
      "text/plain": [
       "array([1, 0])"
      ]
     },
     "execution_count": 399,
     "metadata": {},
     "output_type": "execute_result"
    }
   ],
   "source": [
    "pdf.results.unique()"
   ]
  },
  {
   "cell_type": "markdown",
   "metadata": {},
   "source": [
    "### Demo"
   ]
  },
  {
   "cell_type": "code",
   "execution_count": 298,
   "metadata": {},
   "outputs": [],
   "source": [
    "import pandas as pd\n",
    "from sklearn.preprocessing import MinMaxScaler\n",
    "from sklearn.model_selection import train_test_split\n",
    "from sklearn.metrics import classification_report, confusion_matrix\n",
    "from sklearn.ensemble import GradientBoostingClassifier\n",
    "\n",
    "test_data = pd.read_csv(\"/Users/dorpo/Desktop/test.csv\")\n",
    "train_data = pd.read_csv(\"/Users/dorpo/Desktop/train.csv\")\n",
    "y_train = train_data['Survived']\n",
    "train_data.drop(labels=\"Survived\", axis=1, inplace=True)\n",
    "full_data = train_data.append(test_data)\n",
    "\n",
    "drop_columns = [\"Name\", \"Age\", \"SibSp\", \"Ticket\", \"Cabin\", \"Parch\", \"Embarked\"]\n",
    "full_data.drop(labels=drop_columns, axis=1, inplace=True)\n",
    "\n",
    "full_data = pd.get_dummies(full_data, columns=[\"Sex\"])\n",
    "full_data.fillna(value=0.0, inplace=True)\n",
    "\n",
    "X_train = full_data.values[0:891]\n",
    "X_test = full_data.values[891:]"
   ]
  },
  {
   "cell_type": "code",
   "execution_count": 301,
   "metadata": {},
   "outputs": [
    {
     "name": "stdout",
     "output_type": "stream",
     "text": [
      "Learning rate:  0.05\n",
      "Accuracy score (training): 0.789\n",
      "Accuracy score (validation): 0.845\n",
      "Learning rate:  0.075\n",
      "Accuracy score (training): 0.791\n",
      "Accuracy score (validation): 0.845\n",
      "Learning rate:  0.1\n",
      "Accuracy score (training): 0.803\n",
      "Accuracy score (validation): 0.840\n",
      "Learning rate:  0.25\n",
      "Accuracy score (training): 0.823\n",
      "Accuracy score (validation): 0.840\n",
      "Learning rate:  0.5\n",
      "Accuracy score (training): 0.839\n",
      "Accuracy score (validation): 0.856\n",
      "Learning rate:  0.75\n",
      "Accuracy score (training): 0.869\n",
      "Accuracy score (validation): 0.845\n",
      "Learning rate:  1\n",
      "Accuracy score (training): 0.860\n",
      "Accuracy score (validation): 0.802\n"
     ]
    }
   ],
   "source": [
    "scaler = MinMaxScaler()\n",
    "X_train = scaler.fit_transform(X_train)\n",
    "X_test = scaler.transform(X_test)\n",
    "\n",
    "state = 12  \n",
    "test_size = 0.30  \n",
    "  \n",
    "X_train, X_val, y_train, y_val = train_test_split(\n",
    "    X_train,\n",
    "    y_train,  \n",
    "    test_size=test_size,\n",
    "    random_state=state\n",
    ")\n",
    "\n",
    "lr_list = [0.05, 0.075, 0.1, 0.25, 0.5, 0.75, 1]\n",
    "\n",
    "for learning_rate in lr_list:\n",
    "    gb_clf = GradientBoostingClassifier(n_estimators=20, learning_rate=learning_rate, max_features=2, max_depth=2, random_state=0)\n",
    "    gb_clf.fit(X_train, y_train)\n",
    "\n",
    "    print(\"Learning rate: \", learning_rate)\n",
    "    print(\"Accuracy score (training): {0:.3f}\".format(gb_clf.score(X_train, y_train)))\n",
    "    print(\"Accuracy score (validation): {0:.3f}\".format(gb_clf.score(X_val, y_val)))"
   ]
  },
  {
   "cell_type": "code",
   "execution_count": 302,
   "metadata": {},
   "outputs": [
    {
     "name": "stdout",
     "output_type": "stream",
     "text": [
      "Confusion Matrix:\n",
      "[[112  10]\n",
      " [ 17  48]]\n",
      "Classification Report\n",
      "              precision    recall  f1-score   support\n",
      "\n",
      "           0       0.87      0.92      0.89       122\n",
      "           1       0.83      0.74      0.78        65\n",
      "\n",
      "    accuracy                           0.86       187\n",
      "   macro avg       0.85      0.83      0.84       187\n",
      "weighted avg       0.85      0.86      0.85       187\n",
      "\n"
     ]
    }
   ],
   "source": [
    "gb_clf2 = GradientBoostingClassifier(n_estimators=20, learning_rate=0.5, max_features=2, max_depth=2, random_state=0)\n",
    "gb_clf2.fit(X_train, y_train)\n",
    "predictions = gb_clf2.predict(X_val)\n",
    "\n",
    "print(\"Confusion Matrix:\")\n",
    "print(confusion_matrix(y_val, predictions))\n",
    "\n",
    "print(\"Classification Report\")\n",
    "print(classification_report(y_val, predictions))"
   ]
  },
  {
   "cell_type": "code",
   "execution_count": 303,
   "metadata": {},
   "outputs": [
    {
     "ename": "ModuleNotFoundError",
     "evalue": "No module named 'xgboost'",
     "output_type": "error",
     "traceback": [
      "\u001b[0;31m---------------------------------------------------------------------------\u001b[0m",
      "\u001b[0;31mModuleNotFoundError\u001b[0m                       Traceback (most recent call last)",
      "\u001b[0;32m<ipython-input-303-477fa34615c5>\u001b[0m in \u001b[0;36m<module>\u001b[0;34m\u001b[0m\n\u001b[0;32m----> 1\u001b[0;31m \u001b[0;32mfrom\u001b[0m \u001b[0mxgboost\u001b[0m \u001b[0;32mimport\u001b[0m \u001b[0mXGBClassifier\u001b[0m\u001b[0;34m\u001b[0m\u001b[0;34m\u001b[0m\u001b[0m\n\u001b[0m",
      "\u001b[0;31mModuleNotFoundError\u001b[0m: No module named 'xgboost'"
     ]
    }
   ],
   "source": [
    "from xgboost import XGBClassifier\n"
   ]
  },
  {
   "cell_type": "code",
   "execution_count": 305,
   "metadata": {},
   "outputs": [
    {
     "name": "stdout",
     "output_type": "stream",
     "text": [
      "Looking in indexes: https://repo.dev.wixpress.com/artifactory/api/pypi/pypi-local/simple\n",
      "\u001b[31mERROR: Could not find a version that satisfies the requirement XGBClassifier\u001b[0m\n",
      "\u001b[31mERROR: No matching distribution found for XGBClassifier\u001b[0m\n"
     ]
    }
   ],
   "source": [
    "!pip3.7 install XGBClassifier"
   ]
  },
  {
   "cell_type": "code",
   "execution_count": 3,
   "metadata": {},
   "outputs": [
    {
     "ename": "NameError",
     "evalue": "name 'dictionary' is not defined",
     "output_type": "error",
     "traceback": [
      "\u001b[0;31m---------------------------------------------------------------------------\u001b[0m",
      "\u001b[0;31mNameError\u001b[0m                                 Traceback (most recent call last)",
      "\u001b[0;32m<ipython-input-3-8d3bb74afc8c>\u001b[0m in \u001b[0;36m<module>\u001b[0;34m\u001b[0m\n\u001b[0;32m----> 1\u001b[0;31m \u001b[0mdictionary\u001b[0m\u001b[0;34m[\u001b[0m\u001b[0;34m'Variables'\u001b[0m\u001b[0;34m]\u001b[0m\u001b[0;34m.\u001b[0m\u001b[0mitems\u001b[0m\u001b[0;34m(\u001b[0m\u001b[0;34m)\u001b[0m\u001b[0;34m\u001b[0m\u001b[0;34m\u001b[0m\u001b[0m\n\u001b[0m",
      "\u001b[0;31mNameError\u001b[0m: name 'dictionary' is not defined"
     ]
    }
   ],
   "source": [
    "XGBoost model for Pima Indians dataset\n",
    "from numpy import loadtxt\n",
    "from xgboost import XGBClassifier\n",
    "from sklearn.model_selection import train_test_split\n",
    "from sklearn.metrics import accuracy_score\n",
    "# load data\n",
    "dataset = \n",
    "# split data into X and y\n",
    "X = dataset[:,0:8]\n",
    "Y = dataset[:,8]\n",
    "# split data into train and test sets\n",
    "seed = 7\n",
    "test_size = 0.33\n",
    "X_train, X_test, y_train, y_test = train_test_split(X, Y, test_size=test_size, random_state=seed)\n",
    "# fit model no training data\n",
    "model = XGBClassifier()\n",
    "model.fit(X_train, y_train)\n",
    "# make predictions for test data\n",
    "y_pred = model.predict(X_test)\n",
    "predictions = [round(value) for value in y_pred]\n",
    "# evaluate predictions\n",
    "accuracy = accuracy_score(y_test, predictions)\n",
    "print(\"Accuracy: %.2f%%\" % (accuracy * 100.0))"
   ]
  },
  {
   "cell_type": "code",
   "execution_count": 81,
   "metadata": {},
   "outputs": [],
   "source": [
    "features = data[numeric_fields].dropna().values\n",
    "scaler = StandardScaler()\n",
    "scaled_features = scaler.fit_transform(features)"
   ]
  },
  {
   "cell_type": "code",
   "execution_count": 82,
   "metadata": {},
   "outputs": [
    {
     "data": {
      "text/plain": [
       "array([[ 1.40420164, -0.36150362, -0.384621  , ..., -0.1772041 ,\n",
       "        -0.51032896, -0.40142637],\n",
       "       [-0.51990171, -0.3943092 , -0.41166393, ..., -0.16481424,\n",
       "        -0.58705453, -0.40171323],\n",
       "       [ 0.29001124, -0.3943092 , -0.41166393, ...,  0.11189269,\n",
       "        -0.488814  ,  0.50337098],\n",
       "       ...,\n",
       "       [ 0.43398205, -0.35531389, -0.37421988, ..., -0.1772041 ,\n",
       "         2.39938727, -0.40171636],\n",
       "       [ 0.42048928, -0.27577583, -0.29784589, ..., -0.1772041 ,\n",
       "         2.39542428, -0.4016845 ],\n",
       "       [-0.04274141, -0.39338074, -0.41077241, ..., -0.1235147 ,\n",
       "         0.73798916, -0.40137907]])"
      ]
     },
     "execution_count": 82,
     "metadata": {},
     "output_type": "execute_result"
    }
   ],
   "source": [
    "scaled_features"
   ]
  },
  {
   "cell_type": "code",
   "execution_count": 83,
   "metadata": {},
   "outputs": [
    {
     "data": {
      "text/plain": [
       "KMeans(init='random', n_clusters=3, random_state=42)"
      ]
     },
     "execution_count": 83,
     "metadata": {},
     "output_type": "execute_result"
    }
   ],
   "source": [
    "kmeans = KMeans(\n",
    "            init=\"random\",\n",
    "            n_clusters=3,\n",
    "            n_init=10,\n",
    "            max_iter=300,\n",
    "            random_state=42\n",
    "        )\n",
    "\n",
    "kmeans.fit(scaled_features)"
   ]
  },
  {
   "cell_type": "code",
   "execution_count": 84,
   "metadata": {},
   "outputs": [
    {
     "data": {
      "text/plain": [
       "503341.0950708708"
      ]
     },
     "execution_count": 84,
     "metadata": {},
     "output_type": "execute_result"
    }
   ],
   "source": [
    "kmeans.inertia_"
   ]
  },
  {
   "cell_type": "code",
   "execution_count": 85,
   "metadata": {},
   "outputs": [
    {
     "data": {
      "text/plain": [
       "array([[ 0.75665178, -0.27533792, -0.29569074,  0.38407605,  0.01908688,\n",
       "        -0.14386851,  2.20676456, -0.23954181],\n",
       "       [ 0.0246806 ,  2.50078906,  2.53706374,  0.27008796,  0.02183014,\n",
       "         0.13394682, -0.0559069 ,  0.10612589],\n",
       "       [-0.13035933, -0.31168632, -0.31346538, -0.10302458, -0.00632296,\n",
       "         0.00494839, -0.36189178,  0.02496576]])"
      ]
     },
     "execution_count": 85,
     "metadata": {},
     "output_type": "execute_result"
    }
   ],
   "source": [
    "kmeans.cluster_centers_"
   ]
  },
  {
   "cell_type": "code",
   "execution_count": 89,
   "metadata": {},
   "outputs": [
    {
     "data": {
      "text/plain": [
       "array([2, 2, 2, ..., 0, 0, 0], dtype=int32)"
      ]
     },
     "execution_count": 89,
     "metadata": {},
     "output_type": "execute_result"
    }
   ],
   "source": [
    "kmeans.labels_"
   ]
  },
  {
   "cell_type": "code",
   "execution_count": 96,
   "metadata": {},
   "outputs": [
    {
     "ename": "KeyboardInterrupt",
     "evalue": "",
     "output_type": "error",
     "traceback": [
      "\u001b[0;31m---------------------------------------------------------------------------\u001b[0m",
      "\u001b[0;31mKeyboardInterrupt\u001b[0m                         Traceback (most recent call last)",
      "\u001b[0;32m<ipython-input-96-98d5088bff09>\u001b[0m in \u001b[0;36m<module>\u001b[0;34m\u001b[0m\n\u001b[1;32m     11\u001b[0m     \u001b[0mkmeans\u001b[0m \u001b[0;34m=\u001b[0m \u001b[0mKMeans\u001b[0m\u001b[0;34m(\u001b[0m\u001b[0mn_clusters\u001b[0m\u001b[0;34m=\u001b[0m\u001b[0mk\u001b[0m\u001b[0;34m,\u001b[0m \u001b[0;34m**\u001b[0m\u001b[0mkmeans_kwargs\u001b[0m\u001b[0;34m)\u001b[0m\u001b[0;34m\u001b[0m\u001b[0;34m\u001b[0m\u001b[0m\n\u001b[1;32m     12\u001b[0m     \u001b[0mkmeans\u001b[0m\u001b[0;34m.\u001b[0m\u001b[0mfit\u001b[0m\u001b[0;34m(\u001b[0m\u001b[0mscaled_features\u001b[0m\u001b[0;34m)\u001b[0m\u001b[0;34m\u001b[0m\u001b[0;34m\u001b[0m\u001b[0m\n\u001b[0;32m---> 13\u001b[0;31m     \u001b[0mscore\u001b[0m \u001b[0;34m=\u001b[0m \u001b[0msilhouette_score\u001b[0m\u001b[0;34m(\u001b[0m\u001b[0mscaled_features\u001b[0m\u001b[0;34m,\u001b[0m \u001b[0mkmeans\u001b[0m\u001b[0;34m.\u001b[0m\u001b[0mlabels_\u001b[0m\u001b[0;34m)\u001b[0m\u001b[0;34m\u001b[0m\u001b[0;34m\u001b[0m\u001b[0m\n\u001b[0m\u001b[1;32m     14\u001b[0m     \u001b[0msse\u001b[0m\u001b[0;34m.\u001b[0m\u001b[0mappend\u001b[0m\u001b[0;34m(\u001b[0m\u001b[0mkmeans\u001b[0m\u001b[0;34m.\u001b[0m\u001b[0minertia_\u001b[0m\u001b[0;34m)\u001b[0m\u001b[0;34m\u001b[0m\u001b[0;34m\u001b[0m\u001b[0m\n\u001b[1;32m     15\u001b[0m     \u001b[0msilhouette_coefficients\u001b[0m\u001b[0;34m.\u001b[0m\u001b[0mappend\u001b[0m\u001b[0;34m(\u001b[0m\u001b[0mscore\u001b[0m\u001b[0;34m)\u001b[0m\u001b[0;34m\u001b[0m\u001b[0;34m\u001b[0m\u001b[0m\n",
      "\u001b[0;32m~/opt/anaconda3/lib/python3.8/site-packages/sklearn/utils/validation.py\u001b[0m in \u001b[0;36minner_f\u001b[0;34m(*args, **kwargs)\u001b[0m\n\u001b[1;32m     71\u001b[0m                           FutureWarning)\n\u001b[1;32m     72\u001b[0m         \u001b[0mkwargs\u001b[0m\u001b[0;34m.\u001b[0m\u001b[0mupdate\u001b[0m\u001b[0;34m(\u001b[0m\u001b[0;34m{\u001b[0m\u001b[0mk\u001b[0m\u001b[0;34m:\u001b[0m \u001b[0marg\u001b[0m \u001b[0;32mfor\u001b[0m \u001b[0mk\u001b[0m\u001b[0;34m,\u001b[0m \u001b[0marg\u001b[0m \u001b[0;32min\u001b[0m \u001b[0mzip\u001b[0m\u001b[0;34m(\u001b[0m\u001b[0msig\u001b[0m\u001b[0;34m.\u001b[0m\u001b[0mparameters\u001b[0m\u001b[0;34m,\u001b[0m \u001b[0margs\u001b[0m\u001b[0;34m)\u001b[0m\u001b[0;34m}\u001b[0m\u001b[0;34m)\u001b[0m\u001b[0;34m\u001b[0m\u001b[0;34m\u001b[0m\u001b[0m\n\u001b[0;32m---> 73\u001b[0;31m         \u001b[0;32mreturn\u001b[0m \u001b[0mf\u001b[0m\u001b[0;34m(\u001b[0m\u001b[0;34m**\u001b[0m\u001b[0mkwargs\u001b[0m\u001b[0;34m)\u001b[0m\u001b[0;34m\u001b[0m\u001b[0;34m\u001b[0m\u001b[0m\n\u001b[0m\u001b[1;32m     74\u001b[0m     \u001b[0;32mreturn\u001b[0m \u001b[0minner_f\u001b[0m\u001b[0;34m\u001b[0m\u001b[0;34m\u001b[0m\u001b[0m\n\u001b[1;32m     75\u001b[0m \u001b[0;34m\u001b[0m\u001b[0m\n",
      "\u001b[0;32m~/opt/anaconda3/lib/python3.8/site-packages/sklearn/metrics/cluster/_unsupervised.py\u001b[0m in \u001b[0;36msilhouette_score\u001b[0;34m(X, labels, metric, sample_size, random_state, **kwds)\u001b[0m\n\u001b[1;32m    115\u001b[0m         \u001b[0;32melse\u001b[0m\u001b[0;34m:\u001b[0m\u001b[0;34m\u001b[0m\u001b[0;34m\u001b[0m\u001b[0m\n\u001b[1;32m    116\u001b[0m             \u001b[0mX\u001b[0m\u001b[0;34m,\u001b[0m \u001b[0mlabels\u001b[0m \u001b[0;34m=\u001b[0m \u001b[0mX\u001b[0m\u001b[0;34m[\u001b[0m\u001b[0mindices\u001b[0m\u001b[0;34m]\u001b[0m\u001b[0;34m,\u001b[0m \u001b[0mlabels\u001b[0m\u001b[0;34m[\u001b[0m\u001b[0mindices\u001b[0m\u001b[0;34m]\u001b[0m\u001b[0;34m\u001b[0m\u001b[0;34m\u001b[0m\u001b[0m\n\u001b[0;32m--> 117\u001b[0;31m     \u001b[0;32mreturn\u001b[0m \u001b[0mnp\u001b[0m\u001b[0;34m.\u001b[0m\u001b[0mmean\u001b[0m\u001b[0;34m(\u001b[0m\u001b[0msilhouette_samples\u001b[0m\u001b[0;34m(\u001b[0m\u001b[0mX\u001b[0m\u001b[0;34m,\u001b[0m \u001b[0mlabels\u001b[0m\u001b[0;34m,\u001b[0m \u001b[0mmetric\u001b[0m\u001b[0;34m=\u001b[0m\u001b[0mmetric\u001b[0m\u001b[0;34m,\u001b[0m \u001b[0;34m**\u001b[0m\u001b[0mkwds\u001b[0m\u001b[0;34m)\u001b[0m\u001b[0;34m)\u001b[0m\u001b[0;34m\u001b[0m\u001b[0;34m\u001b[0m\u001b[0m\n\u001b[0m\u001b[1;32m    118\u001b[0m \u001b[0;34m\u001b[0m\u001b[0m\n\u001b[1;32m    119\u001b[0m \u001b[0;34m\u001b[0m\u001b[0m\n",
      "\u001b[0;32m~/opt/anaconda3/lib/python3.8/site-packages/sklearn/utils/validation.py\u001b[0m in \u001b[0;36minner_f\u001b[0;34m(*args, **kwargs)\u001b[0m\n\u001b[1;32m     71\u001b[0m                           FutureWarning)\n\u001b[1;32m     72\u001b[0m         \u001b[0mkwargs\u001b[0m\u001b[0;34m.\u001b[0m\u001b[0mupdate\u001b[0m\u001b[0;34m(\u001b[0m\u001b[0;34m{\u001b[0m\u001b[0mk\u001b[0m\u001b[0;34m:\u001b[0m \u001b[0marg\u001b[0m \u001b[0;32mfor\u001b[0m \u001b[0mk\u001b[0m\u001b[0;34m,\u001b[0m \u001b[0marg\u001b[0m \u001b[0;32min\u001b[0m \u001b[0mzip\u001b[0m\u001b[0;34m(\u001b[0m\u001b[0msig\u001b[0m\u001b[0;34m.\u001b[0m\u001b[0mparameters\u001b[0m\u001b[0;34m,\u001b[0m \u001b[0margs\u001b[0m\u001b[0;34m)\u001b[0m\u001b[0;34m}\u001b[0m\u001b[0;34m)\u001b[0m\u001b[0;34m\u001b[0m\u001b[0;34m\u001b[0m\u001b[0m\n\u001b[0;32m---> 73\u001b[0;31m         \u001b[0;32mreturn\u001b[0m \u001b[0mf\u001b[0m\u001b[0;34m(\u001b[0m\u001b[0;34m**\u001b[0m\u001b[0mkwargs\u001b[0m\u001b[0;34m)\u001b[0m\u001b[0;34m\u001b[0m\u001b[0;34m\u001b[0m\u001b[0m\n\u001b[0m\u001b[1;32m     74\u001b[0m     \u001b[0;32mreturn\u001b[0m \u001b[0minner_f\u001b[0m\u001b[0;34m\u001b[0m\u001b[0;34m\u001b[0m\u001b[0m\n\u001b[1;32m     75\u001b[0m \u001b[0;34m\u001b[0m\u001b[0m\n",
      "\u001b[0;32m~/opt/anaconda3/lib/python3.8/site-packages/sklearn/metrics/cluster/_unsupervised.py\u001b[0m in \u001b[0;36msilhouette_samples\u001b[0;34m(X, labels, metric, **kwds)\u001b[0m\n\u001b[1;32m    232\u001b[0m     reduce_func = functools.partial(_silhouette_reduce,\n\u001b[1;32m    233\u001b[0m                                     labels=labels, label_freqs=label_freqs)\n\u001b[0;32m--> 234\u001b[0;31m     results = zip(*pairwise_distances_chunked(X, reduce_func=reduce_func,\n\u001b[0m\u001b[1;32m    235\u001b[0m                                               **kwds))\n\u001b[1;32m    236\u001b[0m     \u001b[0mintra_clust_dists\u001b[0m\u001b[0;34m,\u001b[0m \u001b[0minter_clust_dists\u001b[0m \u001b[0;34m=\u001b[0m \u001b[0mresults\u001b[0m\u001b[0;34m\u001b[0m\u001b[0;34m\u001b[0m\u001b[0m\n",
      "\u001b[0;32m~/opt/anaconda3/lib/python3.8/site-packages/sklearn/metrics/pairwise.py\u001b[0m in \u001b[0;36mpairwise_distances_chunked\u001b[0;34m(X, Y, reduce_func, metric, n_jobs, working_memory, **kwds)\u001b[0m\n\u001b[1;32m   1620\u001b[0m         \u001b[0;32mif\u001b[0m \u001b[0mreduce_func\u001b[0m \u001b[0;32mis\u001b[0m \u001b[0;32mnot\u001b[0m \u001b[0;32mNone\u001b[0m\u001b[0;34m:\u001b[0m\u001b[0;34m\u001b[0m\u001b[0;34m\u001b[0m\u001b[0m\n\u001b[1;32m   1621\u001b[0m             \u001b[0mchunk_size\u001b[0m \u001b[0;34m=\u001b[0m \u001b[0mD_chunk\u001b[0m\u001b[0;34m.\u001b[0m\u001b[0mshape\u001b[0m\u001b[0;34m[\u001b[0m\u001b[0;36m0\u001b[0m\u001b[0;34m]\u001b[0m\u001b[0;34m\u001b[0m\u001b[0;34m\u001b[0m\u001b[0m\n\u001b[0;32m-> 1622\u001b[0;31m             \u001b[0mD_chunk\u001b[0m \u001b[0;34m=\u001b[0m \u001b[0mreduce_func\u001b[0m\u001b[0;34m(\u001b[0m\u001b[0mD_chunk\u001b[0m\u001b[0;34m,\u001b[0m \u001b[0msl\u001b[0m\u001b[0;34m.\u001b[0m\u001b[0mstart\u001b[0m\u001b[0;34m)\u001b[0m\u001b[0;34m\u001b[0m\u001b[0;34m\u001b[0m\u001b[0m\n\u001b[0m\u001b[1;32m   1623\u001b[0m             \u001b[0m_check_chunk_size\u001b[0m\u001b[0;34m(\u001b[0m\u001b[0mD_chunk\u001b[0m\u001b[0;34m,\u001b[0m \u001b[0mchunk_size\u001b[0m\u001b[0;34m)\u001b[0m\u001b[0;34m\u001b[0m\u001b[0;34m\u001b[0m\u001b[0m\n\u001b[1;32m   1624\u001b[0m         \u001b[0;32myield\u001b[0m \u001b[0mD_chunk\u001b[0m\u001b[0;34m\u001b[0m\u001b[0;34m\u001b[0m\u001b[0m\n",
      "\u001b[0;32m~/opt/anaconda3/lib/python3.8/site-packages/sklearn/metrics/cluster/_unsupervised.py\u001b[0m in \u001b[0;36m_silhouette_reduce\u001b[0;34m(D_chunk, start, labels, label_freqs)\u001b[0m\n\u001b[1;32m    136\u001b[0m                            dtype=D_chunk.dtype)\n\u001b[1;32m    137\u001b[0m     \u001b[0;32mfor\u001b[0m \u001b[0mi\u001b[0m \u001b[0;32min\u001b[0m \u001b[0mrange\u001b[0m\u001b[0;34m(\u001b[0m\u001b[0mlen\u001b[0m\u001b[0;34m(\u001b[0m\u001b[0mD_chunk\u001b[0m\u001b[0;34m)\u001b[0m\u001b[0;34m)\u001b[0m\u001b[0;34m:\u001b[0m\u001b[0;34m\u001b[0m\u001b[0;34m\u001b[0m\u001b[0m\n\u001b[0;32m--> 138\u001b[0;31m         clust_dists[i] += np.bincount(labels, weights=D_chunk[i],\n\u001b[0m\u001b[1;32m    139\u001b[0m                                       minlength=len(label_freqs))\n\u001b[1;32m    140\u001b[0m \u001b[0;34m\u001b[0m\u001b[0m\n",
      "\u001b[0;32m<__array_function__ internals>\u001b[0m in \u001b[0;36mbincount\u001b[0;34m(*args, **kwargs)\u001b[0m\n",
      "\u001b[0;31mKeyboardInterrupt\u001b[0m: "
     ]
    }
   ],
   "source": [
    "kmeans_kwargs = {\n",
    "   \"init\": \"random\",\n",
    "   \"n_init\": 10,\n",
    "   \"max_iter\": 300,\n",
    "   \"random_state\": 42,\n",
    "}\n",
    "\n",
    "sse = []\n",
    "silhouette_coefficients = []\n",
    "for k in range(3, 11):\n",
    "    kmeans = KMeans(n_clusters=k, **kmeans_kwargs)\n",
    "    kmeans.fit(scaled_features)\n",
    "    score = silhouette_score(scaled_features, kmeans.labels_)\n",
    "    sse.append(kmeans.inertia_)\n",
    "    silhouette_coefficients.append(score)"
   ]
  },
  {
   "cell_type": "code",
   "execution_count": 93,
   "metadata": {},
   "outputs": [
    {
     "data": {
      "image/png": "[encoded data removed]",
      "text/plain": [
       "<Figure size 432x288 with 1 Axes>"
      ]
     },
     "metadata": {},
     "output_type": "display_data"
    }
   ],
   "source": [
    "plt.style.use(\"fivethirtyeight\")\n",
    "plt.plot(range(1, 11), sse)\n",
    "plt.xticks(range(1, 11))\n",
    "plt.xlabel(\"Number of Clusters\")\n",
    "plt.ylabel(\"SSE\")\n",
    "plt.show()\n",
    "\n",
    "plt.style.use(\"fivethirtyeight\")\n",
    "plt.plot(range(3, 11), silhouette_coefficients)\n",
    "plt.xticks(range(3, 11))\n",
    "plt.xlabel(\"Number of Clusters\")\n",
    "plt.ylabel(\"Silhouette Coefficient\")\n",
    "plt.show()"
   ]
  },
  {
   "cell_type": "code",
   "execution_count": 113,
   "metadata": {},
   "outputs": [
    {
     "data": {
      "text/html": [
       "<div>\n",
       "<style scoped>\n",
       "    .dataframe tbody tr th:only-of-type {\n",
       "        vertical-align: middle;\n",
       "    }\n",
       "\n",
       "    .dataframe tbody tr th {\n",
       "        vertical-align: top;\n",
       "    }\n",
       "\n",
       "    .dataframe thead th {\n",
       "        text-align: right;\n",
       "    }\n",
       "</style>\n",
       "<table border=\"1\" class=\"dataframe\">\n",
       "  <thead>\n",
       "    <tr style=\"text-align: right;\">\n",
       "      <th></th>\n",
       "      <th>total_spent</th>\n",
       "    </tr>\n",
       "    <tr>\n",
       "      <th>status</th>\n",
       "      <th></th>\n",
       "    </tr>\n",
       "  </thead>\n",
       "  <tbody>\n",
       "    <tr>\n",
       "      <th>approved</th>\n",
       "      <td>3.951600e+07</td>\n",
       "    </tr>\n",
       "    <tr>\n",
       "      <th>chargeback</th>\n",
       "      <td>2.158574e+06</td>\n",
       "    </tr>\n",
       "    <tr>\n",
       "      <th>declined</th>\n",
       "      <td>8.258702e+06</td>\n",
       "    </tr>\n",
       "  </tbody>\n",
       "</table>\n",
       "</div>"
      ],
      "text/plain": [
       "             total_spent\n",
       "status                  \n",
       "approved    3.951600e+07\n",
       "chargeback  2.158574e+06\n",
       "declined    8.258702e+06"
      ]
     },
     "execution_count": 113,
     "metadata": {},
     "output_type": "execute_result"
    }
   ],
   "source": [
    "# Define the aggregation calculations\n",
    "aggregations = {\n",
    "    'duration': { \n",
    "        'total_duration': 'sum',  \n",
    "        'average_duration': 'mean', \n",
    "        'num_calls': 'count'\n",
    "    },\n",
    "    'date': {   \n",
    "        'max_date': 'max',           \n",
    "        'min_date': 'min',\n",
    "        'num_days': lambda x: max(x) - min(x)  \n",
    "    },\n",
    "     # Calculate two results for the 'network' column with a list\n",
    "    'network': [\"count\", \"max\"] \n",
    "}\n",
    "\n",
    "# Define the aggregation calculations\n",
    "aggregations = {\n",
    "    'total_spent': 'sum'\n",
    "    # 'total_spent': [\"count\", \"max\", lambda x: sum(x), 'sum'] \n",
    "}\n",
    "\n",
    "data.groupby('status').agg(aggregations)"
   ]
  },
  {
   "cell_type": "code",
   "execution_count": 36,
   "metadata": {},
   "outputs": [
    {
     "data": {
      "text/html": [
       "<div>\n",
       "<style scoped>\n",
       "    .dataframe tbody tr th:only-of-type {\n",
       "        vertical-align: middle;\n",
       "    }\n",
       "\n",
       "    .dataframe tbody tr th {\n",
       "        vertical-align: top;\n",
       "    }\n",
       "\n",
       "    .dataframe thead th {\n",
       "        text-align: right;\n",
       "    }\n",
       "</style>\n",
       "<table border=\"1\" class=\"dataframe\">\n",
       "  <thead>\n",
       "    <tr style=\"text-align: right;\">\n",
       "      <th></th>\n",
       "      <th>total_spent</th>\n",
       "      <th>order_count</th>\n",
       "    </tr>\n",
       "    <tr>\n",
       "      <th>currency_code</th>\n",
       "      <th></th>\n",
       "      <th></th>\n",
       "    </tr>\n",
       "  </thead>\n",
       "  <tbody>\n",
       "    <tr>\n",
       "      <th>AED</th>\n",
       "      <td>2163.756112</td>\n",
       "      <td>101.0</td>\n",
       "    </tr>\n",
       "    <tr>\n",
       "      <th>ARS</th>\n",
       "      <td>2268.651937</td>\n",
       "      <td>86.0</td>\n",
       "    </tr>\n",
       "    <tr>\n",
       "      <th>AUD</th>\n",
       "      <td>8887.565793</td>\n",
       "      <td>1343.0</td>\n",
       "    </tr>\n",
       "    <tr>\n",
       "      <th>BRL</th>\n",
       "      <td>5631.902513</td>\n",
       "      <td>3393.0</td>\n",
       "    </tr>\n",
       "    <tr>\n",
       "      <th>CAD</th>\n",
       "      <td>5985.937862</td>\n",
       "      <td>6493.0</td>\n",
       "    </tr>\n",
       "    <tr>\n",
       "      <th>CHF</th>\n",
       "      <td>5732.240122</td>\n",
       "      <td>535.0</td>\n",
       "    </tr>\n",
       "    <tr>\n",
       "      <th>CNY</th>\n",
       "      <td>4136.066331</td>\n",
       "      <td>85.0</td>\n",
       "    </tr>\n",
       "    <tr>\n",
       "      <th>CZK</th>\n",
       "      <td>3659.496905</td>\n",
       "      <td>18.0</td>\n",
       "    </tr>\n",
       "    <tr>\n",
       "      <th>DKK</th>\n",
       "      <td>7778.814349</td>\n",
       "      <td>932.0</td>\n",
       "    </tr>\n",
       "    <tr>\n",
       "      <th>EUR</th>\n",
       "      <td>57746.005396</td>\n",
       "      <td>27356.0</td>\n",
       "    </tr>\n",
       "    <tr>\n",
       "      <th>GBP</th>\n",
       "      <td>19939.551995</td>\n",
       "      <td>11874.0</td>\n",
       "    </tr>\n",
       "    <tr>\n",
       "      <th>HKD</th>\n",
       "      <td>4734.302858</td>\n",
       "      <td>759.0</td>\n",
       "    </tr>\n",
       "    <tr>\n",
       "      <th>HRK</th>\n",
       "      <td>4657.601407</td>\n",
       "      <td>2.0</td>\n",
       "    </tr>\n",
       "    <tr>\n",
       "      <th>IDR</th>\n",
       "      <td>321.165913</td>\n",
       "      <td>241.0</td>\n",
       "    </tr>\n",
       "    <tr>\n",
       "      <th>ILS</th>\n",
       "      <td>739.400630</td>\n",
       "      <td>21.0</td>\n",
       "    </tr>\n",
       "    <tr>\n",
       "      <th>INR</th>\n",
       "      <td>192.469306</td>\n",
       "      <td>8.0</td>\n",
       "    </tr>\n",
       "    <tr>\n",
       "      <th>JPY</th>\n",
       "      <td>7212.213718</td>\n",
       "      <td>5633.0</td>\n",
       "    </tr>\n",
       "    <tr>\n",
       "      <th>KES</th>\n",
       "      <td>931.350055</td>\n",
       "      <td>1.0</td>\n",
       "    </tr>\n",
       "    <tr>\n",
       "      <th>KRW</th>\n",
       "      <td>1881.724984</td>\n",
       "      <td>687.0</td>\n",
       "    </tr>\n",
       "    <tr>\n",
       "      <th>MXN</th>\n",
       "      <td>1475.202039</td>\n",
       "      <td>174.0</td>\n",
       "    </tr>\n",
       "    <tr>\n",
       "      <th>MYR</th>\n",
       "      <td>520.092386</td>\n",
       "      <td>447.0</td>\n",
       "    </tr>\n",
       "    <tr>\n",
       "      <th>NOK</th>\n",
       "      <td>2962.825453</td>\n",
       "      <td>566.0</td>\n",
       "    </tr>\n",
       "    <tr>\n",
       "      <th>NZD</th>\n",
       "      <td>1777.288434</td>\n",
       "      <td>123.0</td>\n",
       "    </tr>\n",
       "    <tr>\n",
       "      <th>PHP</th>\n",
       "      <td>420.420481</td>\n",
       "      <td>15.0</td>\n",
       "    </tr>\n",
       "    <tr>\n",
       "      <th>PLN</th>\n",
       "      <td>1935.389405</td>\n",
       "      <td>249.0</td>\n",
       "    </tr>\n",
       "    <tr>\n",
       "      <th>RUB</th>\n",
       "      <td>1788.610000</td>\n",
       "      <td>125.0</td>\n",
       "    </tr>\n",
       "    <tr>\n",
       "      <th>SAR</th>\n",
       "      <td>1646.852755</td>\n",
       "      <td>80.0</td>\n",
       "    </tr>\n",
       "    <tr>\n",
       "      <th>SEK</th>\n",
       "      <td>12254.048785</td>\n",
       "      <td>548.0</td>\n",
       "    </tr>\n",
       "    <tr>\n",
       "      <th>SGD</th>\n",
       "      <td>8853.127944</td>\n",
       "      <td>509.0</td>\n",
       "    </tr>\n",
       "    <tr>\n",
       "      <th>THB</th>\n",
       "      <td>487.750958</td>\n",
       "      <td>313.0</td>\n",
       "    </tr>\n",
       "    <tr>\n",
       "      <th>TRY</th>\n",
       "      <td>178.935883</td>\n",
       "      <td>6.0</td>\n",
       "    </tr>\n",
       "    <tr>\n",
       "      <th>TWD</th>\n",
       "      <td>3622.921773</td>\n",
       "      <td>2481.0</td>\n",
       "    </tr>\n",
       "    <tr>\n",
       "      <th>USD</th>\n",
       "      <td>36008.500000</td>\n",
       "      <td>124681.0</td>\n",
       "    </tr>\n",
       "    <tr>\n",
       "      <th>VND</th>\n",
       "      <td>315.263131</td>\n",
       "      <td>110.0</td>\n",
       "    </tr>\n",
       "    <tr>\n",
       "      <th>ZAR</th>\n",
       "      <td>308.098713</td>\n",
       "      <td>5.0</td>\n",
       "    </tr>\n",
       "  </tbody>\n",
       "</table>\n",
       "</div>"
      ],
      "text/plain": [
       "                total_spent  order_count\n",
       "currency_code                           \n",
       "AED             2163.756112        101.0\n",
       "ARS             2268.651937         86.0\n",
       "AUD             8887.565793       1343.0\n",
       "BRL             5631.902513       3393.0\n",
       "CAD             5985.937862       6493.0\n",
       "CHF             5732.240122        535.0\n",
       "CNY             4136.066331         85.0\n",
       "CZK             3659.496905         18.0\n",
       "DKK             7778.814349        932.0\n",
       "EUR            57746.005396      27356.0\n",
       "GBP            19939.551995      11874.0\n",
       "HKD             4734.302858        759.0\n",
       "HRK             4657.601407          2.0\n",
       "IDR              321.165913        241.0\n",
       "ILS              739.400630         21.0\n",
       "INR              192.469306          8.0\n",
       "JPY             7212.213718       5633.0\n",
       "KES              931.350055          1.0\n",
       "KRW             1881.724984        687.0\n",
       "MXN             1475.202039        174.0\n",
       "MYR              520.092386        447.0\n",
       "NOK             2962.825453        566.0\n",
       "NZD             1777.288434        123.0\n",
       "PHP              420.420481         15.0\n",
       "PLN             1935.389405        249.0\n",
       "RUB             1788.610000        125.0\n",
       "SAR             1646.852755         80.0\n",
       "SEK            12254.048785        548.0\n",
       "SGD             8853.127944        509.0\n",
       "THB              487.750958        313.0\n",
       "TRY              178.935883          6.0\n",
       "TWD             3622.921773       2481.0\n",
       "USD            36008.500000     124681.0\n",
       "VND              315.263131        110.0\n",
       "ZAR              308.098713          5.0"
      ]
     },
     "execution_count": 36,
     "metadata": {},
     "output_type": "execute_result"
    }
   ],
   "source": [
    "aggregations = {\n",
    "    'total_spent':'sum',\n",
    "    'total_spent':'count'\n",
    "}\n",
    "data.groupby('currency_code').agg(\n",
    "    total_spent  = ('total_spent', max),\n",
    "    order_count = ('total_spent', lambda x: sum(x==x))\n",
    ")"
   ]
  },
  {
   "cell_type": "code",
   "execution_count": null,
   "metadata": {},
   "outputs": [],
   "source": [
    "df_kpis <- df %>%\n",
    "  summarise(total_orders = n(),\n",
    "            total_approved_volume = sum(total_spent[status != 'declined']),\n",
    "            approval_rate = sum(status != 'declined')/n(),\n",
    "            decline_rate = 1-approval_rate,\n",
    "            cb_rate = sum(status == 'chargeback')/sum(status != 'declined'),\n",
    "            total_revenue = sum(FEE*total_spent[status == 'approved']))"
   ]
  }
 ],
 "metadata": {
  "kernelspec": {
   "display_name": "Python 3",
   "language": "python",
   "name": "python3"
  },
  "language_info": {
   "codemirror_mode": {
    "name": "ipython",
    "version": 3
   },
   "file_extension": ".py",
   "mimetype": "text/x-python",
   "name": "python",
   "nbconvert_exporter": "python",
   "pygments_lexer": "ipython3",
   "version": "3.8.3"
  }
 },
 "nbformat": 4,
 "nbformat_minor": 4
}
